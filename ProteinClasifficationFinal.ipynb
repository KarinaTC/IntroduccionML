{
  "nbformat": 4,
  "nbformat_minor": 0,
  "metadata": {
    "colab": {
      "name": "ProteinClasifficationFinal.ipynb",
      "provenance": [],
      "collapsed_sections": []
    },
    "kernelspec": {
      "name": "python3",
      "display_name": "Python 3"
    },
    "accelerator": "GPU"
  },
  "cells": [
    {
      "cell_type": "markdown",
      "metadata": {
        "id": "i95--rjjusJg",
        "colab_type": "text"
      },
      "source": [
        "**Protein Classification**"
      ]
    },
    {
      "cell_type": "code",
      "metadata": {
        "id": "3jqKbR4Zu9DU",
        "colab_type": "code",
        "outputId": "b61ae090-76ab-445c-d197-1dbf03a754da",
        "colab": {
          "base_uri": "https://localhost:8080/",
          "height": 131
        }
      },
      "source": [
        "from google.colab import drive\n",
        "drive.mount('/content/drive')"
      ],
      "execution_count": 0,
      "outputs": [
        {
          "output_type": "stream",
          "text": [
            "Go to this URL in a browser: https://accounts.google.com/o/oauth2/auth?client_id=947318989803-6bn6qk8qdgf4n4g3pfee6491hc0brc4i.apps.googleusercontent.com&redirect_uri=urn%3aietf%3awg%3aoauth%3a2.0%3aoob&response_type=code&scope=email%20https%3a%2f%2fwww.googleapis.com%2fauth%2fdocs.test%20https%3a%2f%2fwww.googleapis.com%2fauth%2fdrive%20https%3a%2f%2fwww.googleapis.com%2fauth%2fdrive.photos.readonly%20https%3a%2f%2fwww.googleapis.com%2fauth%2fpeopleapi.readonly\n",
            "\n",
            "Enter your authorization code:\n",
            "··········\n",
            "Mounted at /content/drive\n"
          ],
          "name": "stdout"
        }
      ]
    },
    {
      "cell_type": "code",
      "metadata": {
        "id": "eKVU1ySXHbt1",
        "colab_type": "code",
        "colab": {}
      },
      "source": [
        "import sys\n",
        "sys.path.append('/content/drive/My Drive/Human protein test')\n",
        "#import utils\n",
        "from utils import *"
      ],
      "execution_count": 0,
      "outputs": []
    },
    {
      "cell_type": "code",
      "metadata": {
        "id": "ORVWaOHQt4LV",
        "colab_type": "code",
        "outputId": "88ea18f8-ffb9-4139-93bc-331f72ea839d",
        "colab": {
          "base_uri": "https://localhost:8080/",
          "height": 65
        }
      },
      "source": [
        "import pickle\n",
        "import PIL.Image\n",
        "import pandas as pd\n",
        "import numpy as np\n",
        "import tensorflow as tf\n",
        "import matplotlib.pyplot as plt\n",
        "from sklearn.preprocessing import MultiLabelBinarizer\n",
        "from sklearn.model_selection import train_test_split\n",
        "from tensorflow import keras\n",
        "from keras.layers.normalization import BatchNormalization\n",
        "from keras.layers.convolutional import Conv2D\n",
        "from keras.layers import MaxPooling2D, LeakyReLU, Dropout, Input,Flatten,Dense\n",
        "from keras.models import Model\n",
        "from keras.models import model_from_json\n",
        "%matplotlib inline"
      ],
      "execution_count": 0,
      "outputs": [
        {
          "output_type": "display_data",
          "data": {
            "text/html": [
              "<p style=\"color: red;\">\n",
              "The default version of TensorFlow in Colab will soon switch to TensorFlow 2.x.<br>\n",
              "We recommend you <a href=\"https://www.tensorflow.org/guide/migrate\" target=\"_blank\">upgrade</a> now \n",
              "or ensure your notebook will continue to use TensorFlow 1.x via the <code>%tensorflow_version 1.x</code> magic:\n",
              "<a href=\"https://colab.research.google.com/notebooks/tensorflow_version.ipynb\" target=\"_blank\">more info</a>.</p>\n"
            ],
            "text/plain": [
              "<IPython.core.display.HTML object>"
            ]
          },
          "metadata": {
            "tags": []
          }
        }
      ]
    },
    {
      "cell_type": "markdown",
      "metadata": {
        "id": "0lLiAaO3vId7",
        "colab_type": "text"
      },
      "source": [
        "*Obtención de datos*"
      ]
    },
    {
      "cell_type": "code",
      "metadata": {
        "id": "CvuTPq4NvOPw",
        "colab_type": "code",
        "colab": {}
      },
      "source": [
        "#dt = \"/content/drive/My Drive/train_resize64.pkl\"\n",
        "dt = \"/content/drive/My Drive/Human protein/train_resize64.pkl\"\n",
        "dbfile = open(dt, 'rb')      \n",
        "data = pickle.load(dbfile) \n",
        "dbfile.close() \n"
      ],
      "execution_count": 0,
      "outputs": []
    },
    {
      "cell_type": "markdown",
      "metadata": {
        "id": "n_lxmOkUvjzt",
        "colab_type": "text"
      },
      "source": [
        "*Exploración y preprocesamiento de los datos*\n"
      ]
    },
    {
      "cell_type": "code",
      "metadata": {
        "id": "CUSrGsQOvQty",
        "colab_type": "code",
        "outputId": "970ebf1d-7d5a-435e-a6fe-70d377447d5c",
        "colab": {
          "base_uri": "https://localhost:8080/",
          "height": 36
        }
      },
      "source": [
        "list(data.keys())"
      ],
      "execution_count": 0,
      "outputs": [
        {
          "output_type": "execute_result",
          "data": {
            "text/plain": [
              "['Images', 'Target']"
            ]
          },
          "metadata": {
            "tags": []
          },
          "execution_count": 5
        }
      ]
    },
    {
      "cell_type": "code",
      "metadata": {
        "id": "JZ4vza6ZvQmq",
        "colab_type": "code",
        "outputId": "739fe9a9-f315-4384-cb7b-3eb8c3f22c86",
        "colab": {
          "base_uri": "https://localhost:8080/",
          "height": 118
        }
      },
      "source": [
        "ig = data['Images'][10000]\n",
        "igc1 = data['Target'][10000]\n",
        "print(ig.shape)\n",
        "print(igc1)\n",
        "newim = PIL.Image.fromarray(ig)\n",
        "newim"
      ],
      "execution_count": 0,
      "outputs": [
        {
          "output_type": "stream",
          "text": [
            "(64, 64)\n",
            "(23,)\n"
          ],
          "name": "stdout"
        },
        {
          "output_type": "execute_result",
          "data": {
            "image/png": "[encoded data removed]",
            "text/plain": [
              "<PIL.Image.Image image mode=L size=64x64 at 0x7F9F2F9BEF98>"
            ]
          },
          "metadata": {
            "tags": []
          },
          "execution_count": 6
        }
      ]
    },
    {
      "cell_type": "code",
      "metadata": {
        "id": "D14ak6NTvQbY",
        "colab_type": "code",
        "outputId": "150a5233-0c6d-4c82-c226-7d3177c3160c",
        "colab": {
          "base_uri": "https://localhost:8080/",
          "height": 206
        }
      },
      "source": [
        "data = pd.DataFrame.from_dict(data)\n",
        "data.head()"
      ],
      "execution_count": 0,
      "outputs": [
        {
          "output_type": "execute_result",
          "data": {
            "text/html": [
              "<div>\n",
              "<style scoped>\n",
              "    .dataframe tbody tr th:only-of-type {\n",
              "        vertical-align: middle;\n",
              "    }\n",
              "\n",
              "    .dataframe tbody tr th {\n",
              "        vertical-align: top;\n",
              "    }\n",
              "\n",
              "    .dataframe thead th {\n",
              "        text-align: right;\n",
              "    }\n",
              "</style>\n",
              "<table border=\"1\" class=\"dataframe\">\n",
              "  <thead>\n",
              "    <tr style=\"text-align: right;\">\n",
              "      <th></th>\n",
              "      <th>Images</th>\n",
              "      <th>Target</th>\n",
              "    </tr>\n",
              "  </thead>\n",
              "  <tbody>\n",
              "    <tr>\n",
              "      <th>0</th>\n",
              "      <td>[[0, 29, 19, 1, 0, 0, 5, 0, 3, 0, 26, 20, 4, 3...</td>\n",
              "      <td>(16, 0)</td>\n",
              "    </tr>\n",
              "    <tr>\n",
              "      <th>1</th>\n",
              "      <td>[[0, 0, 0, 0, 0, 0, 0, 0, 0, 0, 0, 4, 15, 6, 7...</td>\n",
              "      <td>(7, 1, 2, 0)</td>\n",
              "    </tr>\n",
              "    <tr>\n",
              "      <th>2</th>\n",
              "      <td>[[0, 0, 0, 0, 0, 0, 0, 0, 0, 0, 0, 0, 0, 0, 0,...</td>\n",
              "      <td>(5,)</td>\n",
              "    </tr>\n",
              "    <tr>\n",
              "      <th>3</th>\n",
              "      <td>[[0, 0, 0, 0, 0, 0, 0, 0, 0, 0, 0, 0, 0, 0, 0,...</td>\n",
              "      <td>(1,)</td>\n",
              "    </tr>\n",
              "    <tr>\n",
              "      <th>4</th>\n",
              "      <td>[[0, 0, 0, 0, 1, 0, 0, 0, 0, 0, 0, 0, 0, 5, 0,...</td>\n",
              "      <td>(18,)</td>\n",
              "    </tr>\n",
              "  </tbody>\n",
              "</table>\n",
              "</div>"
            ],
            "text/plain": [
              "                                              Images        Target\n",
              "0  [[0, 29, 19, 1, 0, 0, 5, 0, 3, 0, 26, 20, 4, 3...       (16, 0)\n",
              "1  [[0, 0, 0, 0, 0, 0, 0, 0, 0, 0, 0, 4, 15, 6, 7...  (7, 1, 2, 0)\n",
              "2  [[0, 0, 0, 0, 0, 0, 0, 0, 0, 0, 0, 0, 0, 0, 0,...          (5,)\n",
              "3  [[0, 0, 0, 0, 0, 0, 0, 0, 0, 0, 0, 0, 0, 0, 0,...          (1,)\n",
              "4  [[0, 0, 0, 0, 1, 0, 0, 0, 0, 0, 0, 0, 0, 5, 0,...         (18,)"
            ]
          },
          "metadata": {
            "tags": []
          },
          "execution_count": 7
        }
      ]
    },
    {
      "cell_type": "code",
      "metadata": {
        "id": "MOOTghhvvQOJ",
        "colab_type": "code",
        "outputId": "aa3ec693-5ae3-4446-ffad-365d6f8f67f4",
        "colab": {
          "base_uri": "https://localhost:8080/",
          "height": 148
        }
      },
      "source": [
        "data.info()"
      ],
      "execution_count": 0,
      "outputs": [
        {
          "output_type": "stream",
          "text": [
            "<class 'pandas.core.frame.DataFrame'>\n",
            "RangeIndex: 31072 entries, 0 to 31071\n",
            "Data columns (total 2 columns):\n",
            "Images    31072 non-null object\n",
            "Target    31072 non-null object\n",
            "dtypes: object(2)\n",
            "memory usage: 485.6+ KB\n"
          ],
          "name": "stdout"
        }
      ]
    },
    {
      "cell_type": "code",
      "metadata": {
        "id": "5HwuxezPwE4X",
        "colab_type": "code",
        "colab": {}
      },
      "source": [
        "Labels = ['Nucleoplasm','Nuclear_membrane','Nucleoli','Nucleoli_fibrillar_center','Nuclear_speckles',\n",
        "          'Nuclear_bodies','Endoplamatic_reticulum','Golgi_apparatus','Peroxisomes','Endosomes','Lysosomes',\n",
        "          'Intermediate_filaments','Actin_filaments','Focal_adhesion_sites','Microtubules','Microtubule_ends',\n",
        "          'Cytokinetic_bridge','Mitotic_spindle','Microtubule_organizing_center','Centrosome','Lipid_droplets',\n",
        "          'Plasma_membrane','Cell_junctions','Mitochondria','Aggresome','Cytosol','Cytoplasmic_bodies',\n",
        "          'Rods_&_rings']"
      ],
      "execution_count": 0,
      "outputs": []
    },
    {
      "cell_type": "code",
      "metadata": {
        "id": "-R4gnOpd7y4W",
        "colab_type": "code",
        "outputId": "6c639fc0-2876-430b-e458-e2f9192fec31",
        "colab": {
          "base_uri": "https://localhost:8080/",
          "height": 424
        }
      },
      "source": [
        "one_hot = MultiLabelBinarizer()\n",
        "x = one_hot.fit_transform(data['Target'])\n",
        "dfOneHot = pd.DataFrame(x, columns = Labels)\n",
        "data = pd.concat([data, dfOneHot], axis=1)\n",
        "data.head(3)"
      ],
      "execution_count": 0,
      "outputs": [
        {
          "output_type": "execute_result",
          "data": {
            "text/html": [
              "<div>\n",
              "<style scoped>\n",
              "    .dataframe tbody tr th:only-of-type {\n",
              "        vertical-align: middle;\n",
              "    }\n",
              "\n",
              "    .dataframe tbody tr th {\n",
              "        vertical-align: top;\n",
              "    }\n",
              "\n",
              "    .dataframe thead th {\n",
              "        text-align: right;\n",
              "    }\n",
              "</style>\n",
              "<table border=\"1\" class=\"dataframe\">\n",
              "  <thead>\n",
              "    <tr style=\"text-align: right;\">\n",
              "      <th></th>\n",
              "      <th>Images</th>\n",
              "      <th>Target</th>\n",
              "      <th>Nucleoplasm</th>\n",
              "      <th>Nuclear_membrane</th>\n",
              "      <th>Nucleoli</th>\n",
              "      <th>Nucleoli_fibrillar_center</th>\n",
              "      <th>Nuclear_speckles</th>\n",
              "      <th>Nuclear_bodies</th>\n",
              "      <th>Endoplamatic_reticulum</th>\n",
              "      <th>Golgi_apparatus</th>\n",
              "      <th>Peroxisomes</th>\n",
              "      <th>Endosomes</th>\n",
              "      <th>Lysosomes</th>\n",
              "      <th>Intermediate_filaments</th>\n",
              "      <th>Actin_filaments</th>\n",
              "      <th>Focal_adhesion_sites</th>\n",
              "      <th>Microtubules</th>\n",
              "      <th>Microtubule_ends</th>\n",
              "      <th>Cytokinetic_bridge</th>\n",
              "      <th>Mitotic_spindle</th>\n",
              "      <th>Microtubule_organizing_center</th>\n",
              "      <th>Centrosome</th>\n",
              "      <th>Lipid_droplets</th>\n",
              "      <th>Plasma_membrane</th>\n",
              "      <th>Cell_junctions</th>\n",
              "      <th>Mitochondria</th>\n",
              "      <th>Aggresome</th>\n",
              "      <th>Cytosol</th>\n",
              "      <th>Cytoplasmic_bodies</th>\n",
              "      <th>Rods_&amp;_rings</th>\n",
              "    </tr>\n",
              "  </thead>\n",
              "  <tbody>\n",
              "    <tr>\n",
              "      <th>0</th>\n",
              "      <td>[[0, 29, 19, 1, 0, 0, 5, 0, 3, 0, 26, 20, 4, 3...</td>\n",
              "      <td>(16, 0)</td>\n",
              "      <td>1</td>\n",
              "      <td>0</td>\n",
              "      <td>0</td>\n",
              "      <td>0</td>\n",
              "      <td>0</td>\n",
              "      <td>0</td>\n",
              "      <td>0</td>\n",
              "      <td>0</td>\n",
              "      <td>0</td>\n",
              "      <td>0</td>\n",
              "      <td>0</td>\n",
              "      <td>0</td>\n",
              "      <td>0</td>\n",
              "      <td>0</td>\n",
              "      <td>0</td>\n",
              "      <td>0</td>\n",
              "      <td>1</td>\n",
              "      <td>0</td>\n",
              "      <td>0</td>\n",
              "      <td>0</td>\n",
              "      <td>0</td>\n",
              "      <td>0</td>\n",
              "      <td>0</td>\n",
              "      <td>0</td>\n",
              "      <td>0</td>\n",
              "      <td>0</td>\n",
              "      <td>0</td>\n",
              "      <td>0</td>\n",
              "    </tr>\n",
              "    <tr>\n",
              "      <th>1</th>\n",
              "      <td>[[0, 0, 0, 0, 0, 0, 0, 0, 0, 0, 0, 4, 15, 6, 7...</td>\n",
              "      <td>(7, 1, 2, 0)</td>\n",
              "      <td>1</td>\n",
              "      <td>1</td>\n",
              "      <td>1</td>\n",
              "      <td>0</td>\n",
              "      <td>0</td>\n",
              "      <td>0</td>\n",
              "      <td>0</td>\n",
              "      <td>1</td>\n",
              "      <td>0</td>\n",
              "      <td>0</td>\n",
              "      <td>0</td>\n",
              "      <td>0</td>\n",
              "      <td>0</td>\n",
              "      <td>0</td>\n",
              "      <td>0</td>\n",
              "      <td>0</td>\n",
              "      <td>0</td>\n",
              "      <td>0</td>\n",
              "      <td>0</td>\n",
              "      <td>0</td>\n",
              "      <td>0</td>\n",
              "      <td>0</td>\n",
              "      <td>0</td>\n",
              "      <td>0</td>\n",
              "      <td>0</td>\n",
              "      <td>0</td>\n",
              "      <td>0</td>\n",
              "      <td>0</td>\n",
              "    </tr>\n",
              "    <tr>\n",
              "      <th>2</th>\n",
              "      <td>[[0, 0, 0, 0, 0, 0, 0, 0, 0, 0, 0, 0, 0, 0, 0,...</td>\n",
              "      <td>(5,)</td>\n",
              "      <td>0</td>\n",
              "      <td>0</td>\n",
              "      <td>0</td>\n",
              "      <td>0</td>\n",
              "      <td>0</td>\n",
              "      <td>1</td>\n",
              "      <td>0</td>\n",
              "      <td>0</td>\n",
              "      <td>0</td>\n",
              "      <td>0</td>\n",
              "      <td>0</td>\n",
              "      <td>0</td>\n",
              "      <td>0</td>\n",
              "      <td>0</td>\n",
              "      <td>0</td>\n",
              "      <td>0</td>\n",
              "      <td>0</td>\n",
              "      <td>0</td>\n",
              "      <td>0</td>\n",
              "      <td>0</td>\n",
              "      <td>0</td>\n",
              "      <td>0</td>\n",
              "      <td>0</td>\n",
              "      <td>0</td>\n",
              "      <td>0</td>\n",
              "      <td>0</td>\n",
              "      <td>0</td>\n",
              "      <td>0</td>\n",
              "    </tr>\n",
              "  </tbody>\n",
              "</table>\n",
              "</div>"
            ],
            "text/plain": [
              "                                              Images  ... Rods_&_rings\n",
              "0  [[0, 29, 19, 1, 0, 0, 5, 0, 3, 0, 26, 20, 4, 3...  ...            0\n",
              "1  [[0, 0, 0, 0, 0, 0, 0, 0, 0, 0, 0, 4, 15, 6, 7...  ...            0\n",
              "2  [[0, 0, 0, 0, 0, 0, 0, 0, 0, 0, 0, 0, 0, 0, 0,...  ...            0\n",
              "\n",
              "[3 rows x 30 columns]"
            ]
          },
          "metadata": {
            "tags": []
          },
          "execution_count": 10
        }
      ]
    },
    {
      "cell_type": "code",
      "metadata": {
        "id": "EJS-qkyX-N6z",
        "colab_type": "code",
        "outputId": "3c96783c-ac61-4454-dd7c-1bed2c02a3a7",
        "colab": {
          "base_uri": "https://localhost:8080/",
          "height": 54
        }
      },
      "source": [
        "X = data.iloc[:,0]\n",
        "y = data.iloc[:,2:]\n",
        "print('Tamaño X: ' + str(X.shape))\n",
        "print('Tamaño y: ' + str(y.shape))"
      ],
      "execution_count": 0,
      "outputs": [
        {
          "output_type": "stream",
          "text": [
            "Tamaño X: (31072,)\n",
            "Tamaño y: (31072, 28)\n"
          ],
          "name": "stdout"
        }
      ]
    },
    {
      "cell_type": "code",
      "metadata": {
        "id": "c7IeUxGm-ehg",
        "colab_type": "code",
        "colab": {}
      },
      "source": [
        "X_train, X_test, y_train, y_test = train_test_split( data['Images'], data[Labels], test_size=0.3, random_state=62)"
      ],
      "execution_count": 0,
      "outputs": []
    },
    {
      "cell_type": "code",
      "metadata": {
        "id": "L8lOfaFUvqVr",
        "colab_type": "code",
        "outputId": "af5e120d-5124-4cd5-bf3d-c6fd015d48f6",
        "colab": {
          "base_uri": "https://localhost:8080/",
          "height": 54
        }
      },
      "source": [
        "print('Tamaño X: ' + str(X_train.shape))\n",
        "print('Tamaño y: ' + str(y_train.shape))\n"
      ],
      "execution_count": 0,
      "outputs": [
        {
          "output_type": "stream",
          "text": [
            "Tamaño X: (21750,)\n",
            "Tamaño y: (21750, 28)\n"
          ],
          "name": "stdout"
        }
      ]
    },
    {
      "cell_type": "code",
      "metadata": {
        "id": "cz5s-hm-9Mt2",
        "colab_type": "code",
        "outputId": "fb151708-6761-46e2-d7c2-597882bf1501",
        "colab": {
          "base_uri": "https://localhost:8080/",
          "height": 54
        }
      },
      "source": [
        "X_train = np.array(list(x for x in X_train))\n",
        "X_train=X_train.reshape(*X_train.shape,1)\n",
        "X_test = np.array(list(x for x in X_test))\n",
        "X_test=X_test.reshape(*X_test.shape,1)\n",
        "print(X_train.shape)\n",
        "print(X_test.shape)"
      ],
      "execution_count": 0,
      "outputs": [
        {
          "output_type": "stream",
          "text": [
            "(21750, 64, 64, 1)\n",
            "(9322, 64, 64, 1)\n"
          ],
          "name": "stdout"
        }
      ]
    },
    {
      "cell_type": "markdown",
      "metadata": {
        "id": "2DvOVLOVzU1R",
        "colab_type": "text"
      },
      "source": [
        "*Creación del modelo* \n",
        "\n"
      ]
    },
    {
      "cell_type": "code",
      "metadata": {
        "id": "R13EyP7pD7RY",
        "colab_type": "code",
        "colab": {}
      },
      "source": [
        "@tf.function\n",
        "def macro_soft_f1(y, y_hat):\n",
        "    \"\"\"Compute the macro soft F1-score as a cost (average 1 - soft-F1 across all labels).\n",
        "    Use probability values instead of binary predictions.\n",
        "    \n",
        "    Args:\n",
        "        y (int32 Tensor): targets array of shape (BATCH_SIZE, N_LABELS)\n",
        "        y_hat (float32 Tensor): probability matrix from forward propagation of shape (BATCH_SIZE, N_LABELS)\n",
        "        \n",
        "    Returns:\n",
        "        cost (scalar Tensor): value of the cost function for the batch\n",
        "    \"\"\"\n",
        "    y = tf.cast(y, tf.float32)\n",
        "    y_hat = tf.cast(y_hat, tf.float32)\n",
        "    tp = tf.reduce_sum(y_hat * y, axis=0)\n",
        "    fp = tf.reduce_sum(y_hat * (1 - y), axis=0)\n",
        "    fn = tf.reduce_sum((1 - y_hat) * y, axis=0)\n",
        "    soft_f1 = 2*tp / (2*tp + fn + fp + 1e-16)\n",
        "    cost = 1 - soft_f1 # reduce 1 - soft-f1 in order to increase soft-f1\n",
        "    macro_cost = tf.reduce_mean(cost) # average on all labels\n",
        "    return macro_cost"
      ],
      "execution_count": 0,
      "outputs": []
    },
    {
      "cell_type": "code",
      "metadata": {
        "id": "dph2WH6bD_vn",
        "colab_type": "code",
        "colab": {}
      },
      "source": [
        "@tf.function\n",
        "def macro_f1(y, y_hat, thresh=0.5):\n",
        "    \"\"\"Compute the macro F1-score on a batch of observations (average F1 across labels)\n",
        "    \n",
        "    Args:\n",
        "        y (int32 Tensor): labels array of shape (BATCH_SIZE, N_LABELS)\n",
        "        y_hat (float32 Tensor): probability matrix from forward propagation of shape (BATCH_SIZE, N_LABELS)\n",
        "        thresh: probability value above which we predict positive\n",
        "        \n",
        "    Returns:\n",
        "        macro_f1 (scalar Tensor): value of macro F1 for the batch\n",
        "    \"\"\"\n",
        "    y_pred = tf.cast(tf.greater(y_hat, thresh), tf.float32)\n",
        "    tp = tf.cast(tf.math.count_nonzero(y_pred * y, axis=0), tf.float32)\n",
        "    fp = tf.cast(tf.math.count_nonzero(y_pred * (1 - y), axis=0), tf.float32)\n",
        "    fn = tf.cast(tf.math.count_nonzero((1 - y_pred) * y, axis=0), tf.float32)\n",
        "    f1 = 2*tp / (2*tp + fn + fp + 1e-16)\n",
        "    macro_f1 = tf.reduce_mean(f1)\n",
        "    return macro_f1"
      ],
      "execution_count": 0,
      "outputs": []
    },
    {
      "cell_type": "code",
      "metadata": {
        "id": "AXbCl_5IotoJ",
        "colab_type": "code",
        "outputId": "4dd2eec4-6200-4834-ae7a-0442e084319c",
        "colab": {
          "base_uri": "https://localhost:8080/",
          "height": 374
        }
      },
      "source": [
        "input_layer = Input(shape=(64,64,1))\n",
        "x = Conv2D(filters=64,kernel_size=3,strides=1,padding='same', activation='relu',)(input_layer)\n",
        "x = Conv2D(filters=64,kernel_size=3,strides=1,padding='same', activation='relu',)(x)\n",
        "x = MaxPooling2D((2, 2), padding='same')(x)\n",
        "\n",
        "x = Conv2D(filters=128,kernel_size=3,strides=1,padding='same',activation='relu')(x)\n",
        "x = Conv2D(filters=128,kernel_size=3,strides=1,padding='same',activation='relu')(x)\n",
        "x = MaxPooling2D((2, 2), padding='same')(x)\n",
        "\n",
        "x = Conv2D(filters=256,kernel_size=3,strides=1,padding='same',activation='relu')(x)\n",
        "x = Conv2D(filters=256,kernel_size=3,strides=1,padding='same',activation='relu')(x)\n",
        "x = Conv2D(filters=256,kernel_size=3,strides=1,padding='same',activation='relu')(x)\n",
        "x = MaxPooling2D((2, 2), padding='same')(x)\n",
        "\n",
        "x = Flatten()(x)\n",
        "x = Dense(512)(x)\n",
        "x = Dense(512)(x)\n",
        "x = Dense(512)(x)\n",
        "x = BatchNormalization()(x)\n",
        "x = LeakyReLU()(x)\n",
        "x = Dropout(rate=0.5)(x)\n",
        "\n",
        "output_layer = Dense(units=28,activation='sigmoid')(x)\n",
        "full_net = Model(input_layer, output_layer)\n",
        "full_net.compile(\n",
        "    optimizer='adam',\n",
        "    loss = macro_soft_f1,\n",
        "    metrics=[macro_f1])"
      ],
      "execution_count": 0,
      "outputs": [
        {
          "output_type": "stream",
          "text": [
            "WARNING:tensorflow:From /usr/local/lib/python3.6/dist-packages/keras/backend/tensorflow_backend.py:66: The name tf.get_default_graph is deprecated. Please use tf.compat.v1.get_default_graph instead.\n",
            "\n",
            "WARNING:tensorflow:From /usr/local/lib/python3.6/dist-packages/keras/backend/tensorflow_backend.py:541: The name tf.placeholder is deprecated. Please use tf.compat.v1.placeholder instead.\n",
            "\n",
            "WARNING:tensorflow:From /usr/local/lib/python3.6/dist-packages/keras/backend/tensorflow_backend.py:4432: The name tf.random_uniform is deprecated. Please use tf.random.uniform instead.\n",
            "\n",
            "WARNING:tensorflow:From /usr/local/lib/python3.6/dist-packages/keras/backend/tensorflow_backend.py:4267: The name tf.nn.max_pool is deprecated. Please use tf.nn.max_pool2d instead.\n",
            "\n",
            "WARNING:tensorflow:From /usr/local/lib/python3.6/dist-packages/keras/backend/tensorflow_backend.py:148: The name tf.placeholder_with_default is deprecated. Please use tf.compat.v1.placeholder_with_default instead.\n",
            "\n",
            "WARNING:tensorflow:From /usr/local/lib/python3.6/dist-packages/keras/backend/tensorflow_backend.py:3733: calling dropout (from tensorflow.python.ops.nn_ops) with keep_prob is deprecated and will be removed in a future version.\n",
            "Instructions for updating:\n",
            "Please use `rate` instead of `keep_prob`. Rate should be set to `rate = 1 - keep_prob`.\n",
            "WARNING:tensorflow:From /usr/local/lib/python3.6/dist-packages/keras/optimizers.py:793: The name tf.train.Optimizer is deprecated. Please use tf.compat.v1.train.Optimizer instead.\n",
            "\n",
            "WARNING:tensorflow:From /usr/local/lib/python3.6/dist-packages/tensorflow_core/python/util/deprecation.py:507: calling count_nonzero (from tensorflow.python.ops.math_ops) with axis is deprecated and will be removed in a future version.\n",
            "Instructions for updating:\n",
            "reduction_indices is deprecated, use axis instead\n"
          ],
          "name": "stdout"
        }
      ]
    },
    {
      "cell_type": "code",
      "metadata": {
        "id": "HkQaXo1Dpv5S",
        "colab_type": "code",
        "outputId": "7570068e-1c2b-4af1-9032-010e1a496143",
        "colab": {
          "base_uri": "https://localhost:8080/",
          "height": 877
        }
      },
      "source": [
        "full_net.summary()"
      ],
      "execution_count": 0,
      "outputs": [
        {
          "output_type": "stream",
          "text": [
            "Model: \"model_1\"\n",
            "_________________________________________________________________\n",
            "Layer (type)                 Output Shape              Param #   \n",
            "=================================================================\n",
            "input_1 (InputLayer)         (None, 64, 64, 1)         0         \n",
            "_________________________________________________________________\n",
            "conv2d_1 (Conv2D)            (None, 64, 64, 64)        640       \n",
            "_________________________________________________________________\n",
            "conv2d_2 (Conv2D)            (None, 64, 64, 64)        36928     \n",
            "_________________________________________________________________\n",
            "max_pooling2d_1 (MaxPooling2 (None, 32, 32, 64)        0         \n",
            "_________________________________________________________________\n",
            "conv2d_3 (Conv2D)            (None, 32, 32, 128)       73856     \n",
            "_________________________________________________________________\n",
            "conv2d_4 (Conv2D)            (None, 32, 32, 128)       147584    \n",
            "_________________________________________________________________\n",
            "max_pooling2d_2 (MaxPooling2 (None, 16, 16, 128)       0         \n",
            "_________________________________________________________________\n",
            "conv2d_5 (Conv2D)            (None, 16, 16, 256)       295168    \n",
            "_________________________________________________________________\n",
            "conv2d_6 (Conv2D)            (None, 16, 16, 256)       590080    \n",
            "_________________________________________________________________\n",
            "conv2d_7 (Conv2D)            (None, 16, 16, 256)       590080    \n",
            "_________________________________________________________________\n",
            "max_pooling2d_3 (MaxPooling2 (None, 8, 8, 256)         0         \n",
            "_________________________________________________________________\n",
            "flatten_1 (Flatten)          (None, 16384)             0         \n",
            "_________________________________________________________________\n",
            "dense_1 (Dense)              (None, 512)               8389120   \n",
            "_________________________________________________________________\n",
            "dense_2 (Dense)              (None, 512)               262656    \n",
            "_________________________________________________________________\n",
            "dense_3 (Dense)              (None, 512)               262656    \n",
            "_________________________________________________________________\n",
            "batch_normalization_1 (Batch (None, 512)               2048      \n",
            "_________________________________________________________________\n",
            "leaky_re_lu_1 (LeakyReLU)    (None, 512)               0         \n",
            "_________________________________________________________________\n",
            "dropout_1 (Dropout)          (None, 512)               0         \n",
            "_________________________________________________________________\n",
            "dense_4 (Dense)              (None, 28)                14364     \n",
            "=================================================================\n",
            "Total params: 10,665,180\n",
            "Trainable params: 10,664,156\n",
            "Non-trainable params: 1,024\n",
            "_________________________________________________________________\n"
          ],
          "name": "stdout"
        }
      ]
    },
    {
      "cell_type": "code",
      "metadata": {
        "id": "HCjiAWOQqEEO",
        "colab_type": "code",
        "outputId": "821af5f8-e252-441b-bdd7-664d67c38427",
        "colab": {
          "base_uri": "https://localhost:8080/",
          "height": 1000
        }
      },
      "source": [
        "history = full_net.fit(X_train,\n",
        "                    y_train,\n",
        "                    batch_size = 100,\n",
        "                    epochs=20,\n",
        "                    validation_data=(X_test, y_test)\n",
        "                    )"
      ],
      "execution_count": 0,
      "outputs": [
        {
          "output_type": "stream",
          "text": [
            "WARNING:tensorflow:From /usr/local/lib/python3.6/dist-packages/keras/backend/tensorflow_backend.py:1033: The name tf.assign_add is deprecated. Please use tf.compat.v1.assign_add instead.\n",
            "\n",
            "WARNING:tensorflow:From /usr/local/lib/python3.6/dist-packages/keras/backend/tensorflow_backend.py:1020: The name tf.assign is deprecated. Please use tf.compat.v1.assign instead.\n",
            "\n",
            "WARNING:tensorflow:From /usr/local/lib/python3.6/dist-packages/keras/backend/tensorflow_backend.py:3005: The name tf.Session is deprecated. Please use tf.compat.v1.Session instead.\n",
            "\n",
            "Train on 21750 samples, validate on 9322 samples\n",
            "Epoch 1/20\n",
            "WARNING:tensorflow:From /usr/local/lib/python3.6/dist-packages/keras/backend/tensorflow_backend.py:190: The name tf.get_default_session is deprecated. Please use tf.compat.v1.get_default_session instead.\n",
            "\n",
            "WARNING:tensorflow:From /usr/local/lib/python3.6/dist-packages/keras/backend/tensorflow_backend.py:197: The name tf.ConfigProto is deprecated. Please use tf.compat.v1.ConfigProto instead.\n",
            "\n",
            "WARNING:tensorflow:From /usr/local/lib/python3.6/dist-packages/keras/backend/tensorflow_backend.py:207: The name tf.global_variables is deprecated. Please use tf.compat.v1.global_variables instead.\n",
            "\n",
            "WARNING:tensorflow:From /usr/local/lib/python3.6/dist-packages/keras/backend/tensorflow_backend.py:216: The name tf.is_variable_initialized is deprecated. Please use tf.compat.v1.is_variable_initialized instead.\n",
            "\n",
            "WARNING:tensorflow:From /usr/local/lib/python3.6/dist-packages/keras/backend/tensorflow_backend.py:223: The name tf.variables_initializer is deprecated. Please use tf.compat.v1.variables_initializer instead.\n",
            "\n",
            "21750/21750 [==============================] - 59s 3ms/step - loss: 0.8895 - macro_f1: 0.1125 - val_loss: 0.9322 - val_macro_f1: 0.0620\n",
            "Epoch 2/20\n",
            "21750/21750 [==============================] - 48s 2ms/step - loss: 0.8830 - macro_f1: 0.1183 - val_loss: 0.8824 - val_macro_f1: 0.1173\n",
            "Epoch 3/20\n",
            "21750/21750 [==============================] - 48s 2ms/step - loss: 0.8764 - macro_f1: 0.1250 - val_loss: 0.8875 - val_macro_f1: 0.1135\n",
            "Epoch 4/20\n",
            "21750/21750 [==============================] - 48s 2ms/step - loss: 0.8714 - macro_f1: 0.1299 - val_loss: 0.8681 - val_macro_f1: 0.1336\n",
            "Epoch 5/20\n",
            "21750/21750 [==============================] - 48s 2ms/step - loss: 0.8664 - macro_f1: 0.1349 - val_loss: 0.8905 - val_macro_f1: 0.1110\n",
            "Epoch 6/20\n",
            "21750/21750 [==============================] - 48s 2ms/step - loss: 0.8646 - macro_f1: 0.1366 - val_loss: 0.8670 - val_macro_f1: 0.1334\n",
            "Epoch 7/20\n",
            "21750/21750 [==============================] - 48s 2ms/step - loss: 0.8623 - macro_f1: 0.1390 - val_loss: 0.8652 - val_macro_f1: 0.1354\n",
            "Epoch 8/20\n",
            "21750/21750 [==============================] - 48s 2ms/step - loss: 0.8607 - macro_f1: 0.1403 - val_loss: 0.8806 - val_macro_f1: 0.1201\n",
            "Epoch 9/20\n",
            "21750/21750 [==============================] - 47s 2ms/step - loss: 0.8593 - macro_f1: 0.1415 - val_loss: 0.8612 - val_macro_f1: 0.1395\n",
            "Epoch 10/20\n",
            "21750/21750 [==============================] - 48s 2ms/step - loss: 0.8566 - macro_f1: 0.1444 - val_loss: 0.8582 - val_macro_f1: 0.1430\n",
            "Epoch 11/20\n",
            "21750/21750 [==============================] - 48s 2ms/step - loss: 0.8536 - macro_f1: 0.1477 - val_loss: 0.8700 - val_macro_f1: 0.1294\n",
            "Epoch 12/20\n",
            "21750/21750 [==============================] - 48s 2ms/step - loss: 0.8511 - macro_f1: 0.1504 - val_loss: 0.8588 - val_macro_f1: 0.1423\n",
            "Epoch 13/20\n",
            "21750/21750 [==============================] - 47s 2ms/step - loss: 0.8492 - macro_f1: 0.1521 - val_loss: 0.8526 - val_macro_f1: 0.1484\n",
            "Epoch 14/20\n",
            "21750/21750 [==============================] - 48s 2ms/step - loss: 0.8456 - macro_f1: 0.1560 - val_loss: 0.8707 - val_macro_f1: 0.1287\n",
            "Epoch 15/20\n",
            "21750/21750 [==============================] - 48s 2ms/step - loss: 0.8434 - macro_f1: 0.1579 - val_loss: 0.8584 - val_macro_f1: 0.1420\n",
            "Epoch 16/20\n",
            "21750/21750 [==============================] - 47s 2ms/step - loss: 0.8421 - macro_f1: 0.1595 - val_loss: 0.8601 - val_macro_f1: 0.1396\n",
            "Epoch 17/20\n",
            "21750/21750 [==============================] - 48s 2ms/step - loss: 0.8380 - macro_f1: 0.1636 - val_loss: 0.8610 - val_macro_f1: 0.1388\n",
            "Epoch 18/20\n",
            "21750/21750 [==============================] - 48s 2ms/step - loss: 0.8370 - macro_f1: 0.1641 - val_loss: 0.8529 - val_macro_f1: 0.1478\n",
            "Epoch 19/20\n",
            "21750/21750 [==============================] - 48s 2ms/step - loss: 0.8340 - macro_f1: 0.1675 - val_loss: 0.8657 - val_macro_f1: 0.1340\n",
            "Epoch 20/20\n",
            "21750/21750 [==============================] - 47s 2ms/step - loss: 0.8316 - macro_f1: 0.1699 - val_loss: 0.8508 - val_macro_f1: 0.1496\n"
          ],
          "name": "stdout"
        }
      ]
    },
    {
      "cell_type": "code",
      "metadata": {
        "id": "7TwRzC7tII6m",
        "colab_type": "code",
        "outputId": "1e665a5f-0250-4c2d-c1fd-6d5492dfa7ff",
        "colab": {
          "base_uri": "https://localhost:8080/",
          "height": 513
        }
      },
      "source": [
        "losses, val_losses, macro_f1s, val_macro_f1s = learning_curves(history)"
      ],
      "execution_count": 0,
      "outputs": [
        {
          "output_type": "display_data",
          "data": {
            "image/png": "[encoded data removed]",
            "text/plain": [
              "<Figure size 576x576 with 2 Axes>"
            ]
          },
          "metadata": {
            "tags": []
          }
        }
      ]
    },
    {
      "cell_type": "code",
      "metadata": {
        "id": "bM84eWV3IXbm",
        "colab_type": "code",
        "outputId": "8a75ecd2-2e44-4f99-aaf6-b9bd0261fc2f",
        "colab": {
          "base_uri": "https://localhost:8080/",
          "height": 54
        }
      },
      "source": [
        "print(\"Macro soft-F1 loss: %.2f\" %val_losses[-1])\n",
        "print(\"Macro F1-score: %.2f\" %val_macro_f1s[-1])"
      ],
      "execution_count": 0,
      "outputs": [
        {
          "output_type": "stream",
          "text": [
            "Macro soft-F1 loss: 0.85\n",
            "Macro F1-score: 0.15\n"
          ],
          "name": "stdout"
        }
      ]
    },
    {
      "cell_type": "code",
      "metadata": {
        "id": "BkZSNZJSqW4r",
        "colab_type": "code",
        "outputId": "c3ccfbab-eb43-49e0-97ff-eb28286eebe2",
        "colab": {
          "base_uri": "https://localhost:8080/",
          "height": 36
        }
      },
      "source": [
        "y_pred = full_net.predict(X_test,verbose=True)"
      ],
      "execution_count": 0,
      "outputs": [
        {
          "output_type": "stream",
          "text": [
            "9322/9322 [==============================] - 7s 745us/step\n"
          ],
          "name": "stdout"
        }
      ]
    },
    {
      "cell_type": "code",
      "metadata": {
        "id": "_q-UDtmYEYPd",
        "colab_type": "code",
        "colab": {}
      },
      "source": [
        "model_json = full_net.to_json()\n",
        "with open(\"/content/drive/My Drive/Human protein test/full_net.json\", \"w\") as json_file:\n",
        "    json_file.write(model_json)"
      ],
      "execution_count": 0,
      "outputs": []
    },
    {
      "cell_type": "code",
      "metadata": {
        "id": "4f2wGGmFEY-d",
        "colab_type": "code",
        "outputId": "fa5d1a50-68e4-4633-c885-975078acf322",
        "colab": {
          "base_uri": "https://localhost:8080/",
          "height": 36
        }
      },
      "source": [
        "full_net.save_weights(\"full_net.h5\")\n",
        "print(\"Modelo guardado en disco\")"
      ],
      "execution_count": 0,
      "outputs": [
        {
          "output_type": "stream",
          "text": [
            "Modelo guardado en disco\n"
          ],
          "name": "stdout"
        }
      ]
    },
    {
      "cell_type": "markdown",
      "metadata": {
        "id": "qugcSPdsz70g",
        "colab_type": "text"
      },
      "source": [
        "*Prueba del modelo con datos nunca antes vistos*"
      ]
    },
    {
      "cell_type": "code",
      "metadata": {
        "id": "yvjnPyQBEp0q",
        "colab_type": "code",
        "colab": {}
      },
      "source": [
        "dt = \"/content/drive/My Drive/Human protein/test_resize64.pkl\"\n",
        "dbfile = open(dt, 'rb')      \n",
        "data = pickle.load(dbfile) \n",
        "dbfile.close() "
      ],
      "execution_count": 0,
      "outputs": []
    },
    {
      "cell_type": "code",
      "metadata": {
        "id": "LBXzJ6aPEr8R",
        "colab_type": "code",
        "outputId": "85d11196-96c7-4d2e-c264-ecc8bdf9a89d",
        "colab": {
          "base_uri": "https://localhost:8080/",
          "height": 249
        }
      },
      "source": [
        "json_file = open('/content/drive/My Drive/Human protein/full_net.json', 'r')\n",
        "loaded_model_json = json_file.read()\n",
        "print(loaded_model_json)\n",
        "json_file.close()\n",
        "loaded_model = model_from_json(loaded_model_json)"
      ],
      "execution_count": 0,
      "outputs": [
        {
          "output_type": "error",
          "ename": "FileNotFoundError",
          "evalue": "ignored",
          "traceback": [
            "\u001b[0;31m---------------------------------------------------------------------------\u001b[0m",
            "\u001b[0;31mFileNotFoundError\u001b[0m                         Traceback (most recent call last)",
            "\u001b[0;32m<ipython-input-35-14dc914bc6a8>\u001b[0m in \u001b[0;36m<module>\u001b[0;34m()\u001b[0m\n\u001b[0;32m----> 1\u001b[0;31m \u001b[0mjson_file\u001b[0m \u001b[0;34m=\u001b[0m \u001b[0mopen\u001b[0m\u001b[0;34m(\u001b[0m\u001b[0;34m'/content/drive/My Drive/Human protein test/full_net.json'\u001b[0m\u001b[0;34m,\u001b[0m \u001b[0;34m'r'\u001b[0m\u001b[0;34m)\u001b[0m\u001b[0;34m\u001b[0m\u001b[0;34m\u001b[0m\u001b[0m\n\u001b[0m\u001b[1;32m      2\u001b[0m \u001b[0mloaded_model_json\u001b[0m \u001b[0;34m=\u001b[0m \u001b[0mjson_file\u001b[0m\u001b[0;34m.\u001b[0m\u001b[0mread\u001b[0m\u001b[0;34m(\u001b[0m\u001b[0;34m)\u001b[0m\u001b[0;34m\u001b[0m\u001b[0;34m\u001b[0m\u001b[0m\n\u001b[1;32m      3\u001b[0m \u001b[0mprint\u001b[0m\u001b[0;34m(\u001b[0m\u001b[0mloaded_model_json\u001b[0m\u001b[0;34m)\u001b[0m\u001b[0;34m\u001b[0m\u001b[0;34m\u001b[0m\u001b[0m\n\u001b[1;32m      4\u001b[0m \u001b[0mjson_file\u001b[0m\u001b[0;34m.\u001b[0m\u001b[0mclose\u001b[0m\u001b[0;34m(\u001b[0m\u001b[0;34m)\u001b[0m\u001b[0;34m\u001b[0m\u001b[0;34m\u001b[0m\u001b[0m\n\u001b[1;32m      5\u001b[0m \u001b[0mloaded_model\u001b[0m \u001b[0;34m=\u001b[0m \u001b[0mmodel_from_json\u001b[0m\u001b[0;34m(\u001b[0m\u001b[0mloaded_model_json\u001b[0m\u001b[0;34m)\u001b[0m\u001b[0;34m\u001b[0m\u001b[0;34m\u001b[0m\u001b[0m\n",
            "\u001b[0;31mFileNotFoundError\u001b[0m: [Errno 2] No such file or directory: '/content/drive/My Drive/Human protein test/full_net.json'"
          ]
        }
      ]
    },
    {
      "cell_type": "code",
      "metadata": {
        "id": "mc2auln3FRqT",
        "colab_type": "code",
        "outputId": "046588a6-53d8-49cc-c9e0-615c7b2a787b",
        "colab": {
          "base_uri": "https://localhost:8080/",
          "height": 36
        }
      },
      "source": [
        "loaded_model.load_weights(\"full_net.h5\")\n",
        "print(\"Modelo cargado desde disco \")"
      ],
      "execution_count": 0,
      "outputs": [
        {
          "output_type": "stream",
          "text": [
            "Modelo cargado desde disco \n"
          ],
          "name": "stdout"
        }
      ]
    },
    {
      "cell_type": "code",
      "metadata": {
        "id": "_Cs0BN_FFkeF",
        "colab_type": "code",
        "outputId": "3d2f2efd-4810-4ea4-9567-95447698a838",
        "colab": {
          "base_uri": "https://localhost:8080/",
          "height": 206
        }
      },
      "source": [
        "datatest = pd.DataFrame.from_dict(data)\n",
        "datatest.head()"
      ],
      "execution_count": 0,
      "outputs": [
        {
          "output_type": "execute_result",
          "data": {
            "text/html": [
              "<div>\n",
              "<style scoped>\n",
              "    .dataframe tbody tr th:only-of-type {\n",
              "        vertical-align: middle;\n",
              "    }\n",
              "\n",
              "    .dataframe tbody tr th {\n",
              "        vertical-align: top;\n",
              "    }\n",
              "\n",
              "    .dataframe thead th {\n",
              "        text-align: right;\n",
              "    }\n",
              "</style>\n",
              "<table border=\"1\" class=\"dataframe\">\n",
              "  <thead>\n",
              "    <tr style=\"text-align: right;\">\n",
              "      <th></th>\n",
              "      <th>Id</th>\n",
              "      <th>Images</th>\n",
              "    </tr>\n",
              "  </thead>\n",
              "  <tbody>\n",
              "    <tr>\n",
              "      <th>0</th>\n",
              "      <td>00008af0-bad0-11e8-b2b8-ac1f6b6435d0</td>\n",
              "      <td>[[0, 0, 0, 0, 0, 0, 0, 0, 0, 0, 0, 0, 0, 0, 0,...</td>\n",
              "    </tr>\n",
              "    <tr>\n",
              "      <th>1</th>\n",
              "      <td>0000a892-bacf-11e8-b2b8-ac1f6b6435d0</td>\n",
              "      <td>[[4, 0, 0, 0, 0, 1, 0, 0, 0, 0, 0, 0, 0, 0, 0,...</td>\n",
              "    </tr>\n",
              "    <tr>\n",
              "      <th>2</th>\n",
              "      <td>0006faa6-bac7-11e8-b2b7-ac1f6b6435d0</td>\n",
              "      <td>[[67, 48, 59, 21, 47, 53, 72, 45, 24, 59, 68, ...</td>\n",
              "    </tr>\n",
              "    <tr>\n",
              "      <th>3</th>\n",
              "      <td>0008baca-bad7-11e8-b2b9-ac1f6b6435d0</td>\n",
              "      <td>[[0, 0, 0, 0, 0, 0, 0, 0, 0, 14, 42, 17, 10, 2...</td>\n",
              "    </tr>\n",
              "    <tr>\n",
              "      <th>4</th>\n",
              "      <td>000cce7e-bad4-11e8-b2b8-ac1f6b6435d0</td>\n",
              "      <td>[[0, 0, 0, 0, 0, 0, 0, 0, 6, 0, 0, 0, 0, 0, 0,...</td>\n",
              "    </tr>\n",
              "  </tbody>\n",
              "</table>\n",
              "</div>"
            ],
            "text/plain": [
              "                                     Id                                             Images\n",
              "0  00008af0-bad0-11e8-b2b8-ac1f6b6435d0  [[0, 0, 0, 0, 0, 0, 0, 0, 0, 0, 0, 0, 0, 0, 0,...\n",
              "1  0000a892-bacf-11e8-b2b8-ac1f6b6435d0  [[4, 0, 0, 0, 0, 1, 0, 0, 0, 0, 0, 0, 0, 0, 0,...\n",
              "2  0006faa6-bac7-11e8-b2b7-ac1f6b6435d0  [[67, 48, 59, 21, 47, 53, 72, 45, 24, 59, 68, ...\n",
              "3  0008baca-bad7-11e8-b2b9-ac1f6b6435d0  [[0, 0, 0, 0, 0, 0, 0, 0, 0, 14, 42, 17, 10, 2...\n",
              "4  000cce7e-bad4-11e8-b2b8-ac1f6b6435d0  [[0, 0, 0, 0, 0, 0, 0, 0, 6, 0, 0, 0, 0, 0, 0,..."
            ]
          },
          "metadata": {
            "tags": []
          },
          "execution_count": 37
        }
      ]
    },
    {
      "cell_type": "code",
      "metadata": {
        "id": "hw4gJgymF-nx",
        "colab_type": "code",
        "outputId": "73971809-59b9-4590-8d40-d106e1593e8d",
        "colab": {
          "base_uri": "https://localhost:8080/",
          "height": 36
        }
      },
      "source": [
        "test = np.array(list(x for x in datatest['Images']))\n",
        "test = test.reshape(*test.shape,1)\n",
        "print(test.shape)"
      ],
      "execution_count": 0,
      "outputs": [
        {
          "output_type": "stream",
          "text": [
            "(11702, 64, 64, 1)\n"
          ],
          "name": "stdout"
        }
      ]
    },
    {
      "cell_type": "code",
      "metadata": {
        "id": "4xfHbEhzFXEK",
        "colab_type": "code",
        "outputId": "fb1b7222-fe21-4608-c38c-775d4120d289",
        "colab": {
          "base_uri": "https://localhost:8080/",
          "height": 260
        }
      },
      "source": [
        "loaded_model.compile(\n",
        "    loss=macro_soft_f1, \n",
        "    optimizer='adam', \n",
        "    metrics=[macro_f1])\n",
        "\n",
        "salida = loaded_model.predict(test, verbose=0)\n",
        "print(salida)"
      ],
      "execution_count": 0,
      "outputs": [
        {
          "output_type": "stream",
          "text": [
            "[[9.9999940e-01 1.4901161e-07 9.9997079e-01 ... 0.0000000e+00\n",
            "  4.7683716e-07 7.4505806e-07]\n",
            " [9.6519792e-01 1.4796853e-04 6.1989725e-03 ... 4.8830751e-01\n",
            "  7.9634786e-04 1.9568205e-04]\n",
            " [1.0000000e+00 0.0000000e+00 0.0000000e+00 ... 1.0000000e+00\n",
            "  0.0000000e+00 0.0000000e+00]\n",
            " ...\n",
            " [9.5719898e-01 0.0000000e+00 4.3400556e-02 ... 5.0839782e-04\n",
            "  1.2463331e-04 2.1889806e-04]\n",
            " [9.9996090e-01 2.0861626e-07 4.7731996e-03 ... 2.6449919e-02\n",
            "  3.7521124e-05 3.1292439e-06]\n",
            " [9.9999088e-01 8.2068205e-02 5.1073754e-01 ... 7.7205896e-04\n",
            "  2.4467707e-05 6.8724155e-05]]\n"
          ],
          "name": "stdout"
        }
      ]
    },
    {
      "cell_type": "code",
      "metadata": {
        "id": "L19eabRLF6Fs",
        "colab_type": "code",
        "colab": {}
      },
      "source": [
        "def classifyData(salida):\n",
        "    for i in range (0,len(salida)):\n",
        "        l = np.round(salida[i],0)\n",
        "        if 1.in l:\n",
        "            salida[i] = l\n",
        "        else:\n",
        "            salida[i][np.argmax(salida[i])] = 1\n",
        "            salida[i] = np.round(salida[i],0)\n",
        "    return salida"
      ],
      "execution_count": 0,
      "outputs": []
    },
    {
      "cell_type": "code",
      "metadata": {
        "id": "1gxVQHlH0WjW",
        "colab_type": "code",
        "colab": {}
      },
      "source": [
        "salida = classifyData(salida)"
      ],
      "execution_count": 0,
      "outputs": []
    },
    {
      "cell_type": "code",
      "metadata": {
        "id": "82cyDmSuOjXh",
        "colab_type": "code",
        "colab": {}
      },
      "source": [
        "outputs = []\n",
        "for row in salida:\n",
        "    t = \"\"\n",
        "    for c, val in enumerate(row):\n",
        "        if val == 1:\n",
        "            t = t + \" \"+str(c)\n",
        "    outputs.append(t)"
      ],
      "execution_count": 0,
      "outputs": []
    },
    {
      "cell_type": "code",
      "metadata": {
        "id": "nsUVNXuUQgHD",
        "colab_type": "code",
        "colab": {}
      },
      "source": [
        "df = pd.DataFrame({\"Id\" : datatest['Id'], \"Predicted\" : outputs})\n",
        "df.to_csv(\"/content/drive/My Drive/Human protein/submission3.csv\", index=False)"
      ],
      "execution_count": 0,
      "outputs": []
    },
    {
      "cell_type": "code",
      "metadata": {
        "id": "Hl7RC8HwZXoG",
        "colab_type": "code",
        "colab": {}
      },
      "source": [
        ""
      ],
      "execution_count": 0,
      "outputs": []
    }
  ]
}